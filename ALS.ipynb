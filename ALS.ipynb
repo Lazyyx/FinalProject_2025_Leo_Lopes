{
 "cells": [
  {
   "cell_type": "markdown",
   "id": "ed402590",
   "metadata": {},
   "source": [
    "## ALS Model for Implicit Feedback\n",
    "\n",
    "We now implement **Alternating Least Squares (ALS)** to factorize our implicit, binary interaction data into user and item latent factors.  \n",
    "ALS is optimized for **Top-N recommendation** with confidence weighting, making it well-suited to our short‐video watch/rewatch signals.\n"
   ]
  },
  {
   "cell_type": "code",
   "execution_count": 33,
   "id": "8d4ef365",
   "metadata": {},
   "outputs": [],
   "source": [
    "# !pip install implicit\n",
    "\n",
    "import pandas as pd\n",
    "import numpy as np\n",
    "from scipy.sparse import coo_matrix\n",
    "from implicit.als import AlternatingLeastSquares\n"
   ]
  },
  {
   "cell_type": "markdown",
   "id": "19e0d360",
   "metadata": {},
   "source": [
    "## Load and clean every important files\n",
    "\n",
    "*Applying `eval` to each entry in the corresponding column, converting string representations of Python literals into their actual Python objects.*\n",
    "\n",
    "Here, cleaning is quite straightforward: it is just about removing null values and duplicates."
   ]
  },
  {
   "cell_type": "code",
   "execution_count": 34,
   "id": "485cb9d8",
   "metadata": {},
   "outputs": [
    {
     "name": "stdout",
     "output_type": "stream",
     "text": [
      "Loading big and small matrices...\n",
      "Loading social network...\n",
      "Loading item features...\n",
      "Loading user features...\n",
      "Loading items' daily features...\n",
      "All data loaded.\n",
      "Cleaning data...\n",
      "Data cleaned.\n",
      "Big matrix: 7.71% cleaned\n",
      "Small matrix: 3.89% cleaned\n",
      "Social network: 0.00% cleaned\n",
      "Item categories: 0.00% cleaned\n",
      "User features: 3.86% cleaned\n",
      "Item daily features: 30.11% cleaned\n"
     ]
    }
   ],
   "source": [
    "from load_clean import load_and_clean_data\n",
    "\n",
    "big_matrix, small_matrix, social_network, item_categories, user_features, item_daily_features = load_and_clean_data()"
   ]
  },
  {
   "cell_type": "markdown",
   "id": "e1286a65",
   "metadata": {},
   "source": [
    "### Pre-filter Data\n",
    "\n",
    "We consider **positive** interactions when `watch_ratio >= 2`, according to KuaiRec Paper, then map `user_id` and `video_id` into zero-based matrix indices.\n"
   ]
  },
  {
   "cell_type": "code",
   "execution_count": 64,
   "id": "def8f86a",
   "metadata": {},
   "outputs": [
    {
     "name": "stdout",
     "output_type": "stream",
     "text": [
      "Users: 7176, Items: 10728, Interactions: 11564987\n"
     ]
    }
   ],
   "source": [
    "train_df = big_matrix.copy()\n",
    "train_df['interaction'] = (train_df['watch_ratio'] >= 2).astype(int)\n",
    "\n",
    "# map to indices\n",
    "user_ids = train_df['user_id'].unique().tolist()\n",
    "item_ids = train_df['video_id'].unique().tolist()\n",
    "user2idx = {u:i for i,u in enumerate(user_ids)}\n",
    "item2idx = {v:i for i,v in enumerate(item_ids)}\n",
    "\n",
    "n_items = len(item_ids)\n",
    "n_users = len(user_ids)\n",
    "\n",
    "train_df['u_idx'] = train_df['user_id'].map(user2idx)\n",
    "train_df['i_idx'] = train_df['video_id'].map(item2idx)\n",
    "\n",
    "print(f\"Users: {len(user_ids)}, Items: {len(item_ids)}, Interactions: {len(train_df)}\")"
   ]
  },
  {
   "cell_type": "markdown",
   "id": "60ae3d28",
   "metadata": {},
   "source": [
    "### 6.3 Build the Confidence Matrix\n",
    "\n",
    "We follow the **implicit feedback** formulation:  \n",
    "\\[\n",
    "C_{u,i} = 1 + \\alpha \\times R_{u,i},\n",
    "\\]  \n",
    "where \\(R_{u,i}\\in\\{0,1\\}\\) is our binary ‘interaction’, and \\(\\alpha\\) scales confidence.\n"
   ]
  },
  {
   "cell_type": "code",
   "execution_count": 65,
   "id": "e56d647a",
   "metadata": {},
   "outputs": [
    {
     "name": "stdout",
     "output_type": "stream",
     "text": [
      "Sparse matrix shape: (10728, 7176)\n"
     ]
    }
   ],
   "source": [
    "# Build confidence matrix: implicit format expects (item x user)\n",
    "alpha = 40\n",
    "# rows = items, cols = users (implicit expects item-user matrix)\n",
    "conf_mat = coo_matrix(\n",
    "    (1 + alpha * train_df['interaction'],\n",
    "     (train_df['i_idx'], train_df['u_idx'])),\n",
    "    shape=(n_items, n_users)\n",
    ")\n",
    "\n",
    "print(f\"Sparse matrix shape: {conf_mat.shape}\")"
   ]
  },
  {
   "cell_type": "markdown",
   "id": "8c487fc7",
   "metadata": {},
   "source": [
    "### 6.4 Train the ALS Model\n",
    "\n",
    "We fit ALS on the **item-user** sparse matrix.  \n",
    "Key hyperparameters:\n",
    "- `factors=50`: latent dimension  \n",
    "- `regularization=0.1`: prevents overfitting  \n",
    "- `iterations=15`: number of ALS sweeps  \n"
   ]
  },
  {
   "cell_type": "code",
   "execution_count": 66,
   "id": "e49bd134",
   "metadata": {},
   "outputs": [
    {
     "name": "stderr",
     "output_type": "stream",
     "text": [
      "100%|██████████| 15/15 [00:24<00:00,  1.63s/it]\n"
     ]
    }
   ],
   "source": [
    "# convert to CSR for speed\n",
    "conf_csr = conf_mat.tocsr()\n",
    "\n",
    "# initialize & fit ALS\n",
    "als = AlternatingLeastSquares(\n",
    "    factors=50,\n",
    "    regularization=0.1,\n",
    "    iterations=15,\n",
    "    dtype=np.float32,\n",
    "    use_gpu=False\n",
    ")\n",
    "als.fit(conf_csr)\n"
   ]
  },
  {
   "cell_type": "markdown",
   "id": "0c225eb9",
   "metadata": {},
   "source": [
    "### 6.5 Generate Top-K Recommendations\n",
    "\n",
    "We use ALS’s `.recommend()` to produce Top-K recs **excluding** items the user already interacted with.\n"
   ]
  },
  {
   "cell_type": "code",
   "execution_count": 69,
   "id": "7b0728e6",
   "metadata": {},
   "outputs": [],
   "source": [
    "# build user_items (for filtering)\n",
    "user_items = conf_mat.T.tocsr() \n",
    "\n",
    "def recommend_als(user_id, K=10):\n",
    "    uidx = user2idx[user_id]\n",
    "    print(\"conf_mat shape:\", conf_mat.shape)      # should be (10728, 7176)\n",
    "    print(\"user_items shape:\", user_items.shape)  # should be (7176, 10728)\n",
    "\n",
    "    row = user_items[uidx]\n",
    "    print(\"row shape:\", row.shape) \n",
    "    recs = als.recommend(\n",
    "        userid=uidx,\n",
    "        user_items=row,\n",
    "        N=K,\n",
    "        filter_already_liked_items=True\n",
    "    )\n",
    "    print(f\"Recommended items for user {uidx}: {recs}\")\n",
    "    return [item_ids[i] for i in recs[0]]\n"
   ]
  },
  {
   "cell_type": "markdown",
   "id": "6e0eeca0",
   "metadata": {},
   "source": [
    "### 6.6 Evaluate ALS with Top-K Metrics\n",
    "\n",
    "We reuse our evaluation functions (Precision@K, Recall@K, NDCG@K, MAP@K)  \n",
    "on the **test set** (`small_matrix.csv`), mapped into the same index space.\n"
   ]
  },
  {
   "cell_type": "code",
   "execution_count": 70,
   "id": "41855f16",
   "metadata": {},
   "outputs": [
    {
     "name": "stdout",
     "output_type": "stream",
     "text": [
      "conf_mat shape: (10728, 7176)\n",
      "user_items shape: (7176, 10728)\n",
      "row shape: (1, 10728)\n",
      "Recommended items for user 14: (array([1863, 1399,  993, 4409, 2709,  600, 4084,  333,  734, 4964],\n",
      "      dtype=int32), array([1.2909622, 1.2656503, 1.2611493, 1.2561815, 1.2517598, 1.2426412,\n",
      "       1.2396802, 1.2316259, 1.2299379, 1.2267133], dtype=float32))\n",
      "conf_mat shape: (10728, 7176)\n",
      "user_items shape: (7176, 10728)\n",
      "row shape: (1, 10728)\n",
      "Recommended items for user 19: (array([ 600, 6721, 6633, 1821,  958, 5723, 4007, 3911, 7045, 5923],\n",
      "      dtype=int32), array([1.3828309, 1.3656793, 1.3581164, 1.3182485, 1.3064888, 1.2996873,\n",
      "       1.2876625, 1.2856709, 1.28192  , 1.280205 ], dtype=float32))\n",
      "conf_mat shape: (10728, 7176)\n",
      "user_items shape: (7176, 10728)\n",
      "row shape: (1, 10728)\n",
      "Recommended items for user 21: (array([6454, 4946, 6884, 1991, 1745,  826, 4731, 6341, 5821, 6784],\n",
      "      dtype=int32), array([1.2248569, 1.1918578, 1.1856631, 1.1761225, 1.1646575, 1.1590784,\n",
      "       1.1578197, 1.1576061, 1.157031 , 1.1504087], dtype=float32))\n",
      "conf_mat shape: (10728, 7176)\n",
      "user_items shape: (7176, 10728)\n",
      "row shape: (1, 10728)\n",
      "Recommended items for user 23: (array([2867, 1462, 3354, 2927, 1999, 6543, 3479, 1153, 2385, 6092],\n",
      "      dtype=int32), array([1.2216944, 1.2162958, 1.2086209, 1.1932269, 1.1898642, 1.1849922,\n",
      "       1.1814761, 1.1803092, 1.17763  , 1.1766652], dtype=float32))\n",
      "conf_mat shape: (10728, 7176)\n",
      "user_items shape: (7176, 10728)\n",
      "row shape: (1, 10728)\n",
      "Recommended items for user 24: (array([4291,  347, 2658, 2389, 5022, 6472, 2436,  446, 2639, 1504],\n",
      "      dtype=int32), array([1.2532446, 1.2339898, 1.2310313, 1.2146624, 1.2146244, 1.2108643,\n",
      "       1.2091948, 1.1936488, 1.1909232, 1.1906811], dtype=float32))\n",
      "conf_mat shape: (10728, 7176)\n",
      "user_items shape: (7176, 10728)\n",
      "row shape: (1, 10728)\n",
      "Recommended items for user 36: (array([2658,  427, 1445, 5928, 6600, 6590, 1686,  133, 1972, 6057],\n",
      "      dtype=int32), array([1.1772271, 1.1535574, 1.1494467, 1.1409489, 1.1399077, 1.1333001,\n",
      "       1.1289263, 1.1237973, 1.1225288, 1.1223606], dtype=float32))\n",
      "conf_mat shape: (10728, 7176)\n",
      "user_items shape: (7176, 10728)\n",
      "row shape: (1, 10728)\n",
      "Recommended items for user 37: (array([4247, 6590,    1, 4857,  267, 5807, 6600, 5392, 5928, 1445],\n",
      "      dtype=int32), array([1.187589 , 1.1784058, 1.1659324, 1.1478174, 1.1449386, 1.1431115,\n",
      "       1.1430564, 1.1423817, 1.1423132, 1.1391704], dtype=float32))\n",
      "conf_mat shape: (10728, 7176)\n",
      "user_items shape: (7176, 10728)\n",
      "row shape: (1, 10728)\n",
      "Recommended items for user 41: (array([5631, 2406, 5370,  831,   77, 4348, 1060, 5319,  134, 4065],\n",
      "      dtype=int32), array([0.59618884, 0.5663148 , 0.5539175 , 0.5458743 , 0.52769053,\n",
      "       0.5207017 , 0.47973397, 0.4769567 , 0.4706258 , 0.4664296 ],\n",
      "      dtype=float32))\n",
      "conf_mat shape: (10728, 7176)\n",
      "user_items shape: (7176, 10728)\n",
      "row shape: (1, 10728)\n",
      "Recommended items for user 51: (array([1162, 2012, 4152,  756, 1085, 4775, 3876, 4995, 6004, 5827],\n",
      "      dtype=int32), array([1.2845731, 1.2772242, 1.2298081, 1.2147052, 1.1981262, 1.1898639,\n",
      "       1.1865102, 1.163794 , 1.1633801, 1.1613945], dtype=float32))\n",
      "conf_mat shape: (10728, 7176)\n",
      "user_items shape: (7176, 10728)\n",
      "row shape: (1, 10728)\n",
      "Recommended items for user 55: (array([ 333, 6854, 1667,  334, 1053, 4288, 5886, 1297, 3845,  631],\n",
      "      dtype=int32), array([1.1634339, 1.0998192, 1.0661819, 1.0439242, 1.0369024, 1.028153 ,\n",
      "       1.0053288, 0.9789424, 0.9756466, 0.9620195], dtype=float32))\n",
      "conf_mat shape: (10728, 7176)\n",
      "user_items shape: (7176, 10728)\n",
      "row shape: (1, 10728)\n",
      "Recommended items for user 64: (array([5383, 3403,    3, 5346, 5197, 5126, 1179, 1207, 4714, 4859],\n",
      "      dtype=int32), array([0.91668785, 0.8832417 , 0.8147749 , 0.81106234, 0.8069745 ,\n",
      "       0.80122054, 0.799432  , 0.79896307, 0.7988943 , 0.7886845 ],\n",
      "      dtype=float32))\n",
      "conf_mat shape: (10728, 7176)\n",
      "user_items shape: (7176, 10728)\n",
      "row shape: (1, 10728)\n"
     ]
    },
    {
     "ename": "IndexError",
     "evalue": "index 7224 is out of bounds for axis 1 with size 7176",
     "output_type": "error",
     "traceback": [
      "\u001b[0;31m---------------------------------------------------------------------------\u001b[0m",
      "\u001b[0;31mIndexError\u001b[0m                                Traceback (most recent call last)",
      "Cell \u001b[0;32mIn[70], line 34\u001b[0m\n\u001b[1;32m     32\u001b[0m metrics \u001b[38;5;241m=\u001b[39m {\u001b[38;5;124m'\u001b[39m\u001b[38;5;124mprec\u001b[39m\u001b[38;5;124m'\u001b[39m:[], \u001b[38;5;124m'\u001b[39m\u001b[38;5;124mrec\u001b[39m\u001b[38;5;124m'\u001b[39m:[], \u001b[38;5;124m'\u001b[39m\u001b[38;5;124mndcg\u001b[39m\u001b[38;5;124m'\u001b[39m:[], \u001b[38;5;124m'\u001b[39m\u001b[38;5;124mmap\u001b[39m\u001b[38;5;124m'\u001b[39m:[]}\n\u001b[1;32m     33\u001b[0m \u001b[38;5;28;01mfor\u001b[39;00m uidx, actual \u001b[38;5;129;01min\u001b[39;00m gt\u001b[38;5;241m.\u001b[39mitems():\n\u001b[0;32m---> 34\u001b[0m     recs \u001b[38;5;241m=\u001b[39m [ item2idx\u001b[38;5;241m.\u001b[39mget(v,\u001b[38;5;241m-\u001b[39m\u001b[38;5;241m1\u001b[39m) \u001b[38;5;28;01mfor\u001b[39;00m v \u001b[38;5;129;01min\u001b[39;00m \u001b[43mrecommend_als\u001b[49m\u001b[43m(\u001b[49m\u001b[43midx2user\u001b[49m\u001b[43m[\u001b[49m\u001b[43muidx\u001b[49m\u001b[43m]\u001b[49m\u001b[43m,\u001b[49m\u001b[43m \u001b[49m\u001b[43mK\u001b[49m\u001b[43m)\u001b[49m ]\n\u001b[1;32m     35\u001b[0m     metrics[\u001b[38;5;124m'\u001b[39m\u001b[38;5;124mprec\u001b[39m\u001b[38;5;124m'\u001b[39m]\u001b[38;5;241m.\u001b[39mappend( precision_at_k(recs,actual,K) )\n\u001b[1;32m     36\u001b[0m     metrics[\u001b[38;5;124m'\u001b[39m\u001b[38;5;124mrec\u001b[39m\u001b[38;5;124m'\u001b[39m ]\u001b[38;5;241m.\u001b[39mappend( recall_at_k(recs,actual,K) )\n",
      "Cell \u001b[0;32mIn[69], line 11\u001b[0m, in \u001b[0;36mrecommend_als\u001b[0;34m(user_id, K)\u001b[0m\n\u001b[1;32m      9\u001b[0m row \u001b[38;5;241m=\u001b[39m user_items[uidx]\n\u001b[1;32m     10\u001b[0m \u001b[38;5;28mprint\u001b[39m(\u001b[38;5;124m\"\u001b[39m\u001b[38;5;124mrow shape:\u001b[39m\u001b[38;5;124m\"\u001b[39m, row\u001b[38;5;241m.\u001b[39mshape) \n\u001b[0;32m---> 11\u001b[0m recs \u001b[38;5;241m=\u001b[39m \u001b[43mals\u001b[49m\u001b[38;5;241;43m.\u001b[39;49m\u001b[43mrecommend\u001b[49m\u001b[43m(\u001b[49m\n\u001b[1;32m     12\u001b[0m \u001b[43m    \u001b[49m\u001b[43muserid\u001b[49m\u001b[38;5;241;43m=\u001b[39;49m\u001b[43muidx\u001b[49m\u001b[43m,\u001b[49m\n\u001b[1;32m     13\u001b[0m \u001b[43m    \u001b[49m\u001b[43muser_items\u001b[49m\u001b[38;5;241;43m=\u001b[39;49m\u001b[43mrow\u001b[49m\u001b[43m,\u001b[49m\n\u001b[1;32m     14\u001b[0m \u001b[43m    \u001b[49m\u001b[43mN\u001b[49m\u001b[38;5;241;43m=\u001b[39;49m\u001b[43mK\u001b[49m\u001b[43m,\u001b[49m\n\u001b[1;32m     15\u001b[0m \u001b[43m    \u001b[49m\u001b[43mfilter_already_liked_items\u001b[49m\u001b[38;5;241;43m=\u001b[39;49m\u001b[38;5;28;43;01mTrue\u001b[39;49;00m\n\u001b[1;32m     16\u001b[0m \u001b[43m\u001b[49m\u001b[43m)\u001b[49m\n\u001b[1;32m     17\u001b[0m \u001b[38;5;28mprint\u001b[39m(\u001b[38;5;124mf\u001b[39m\u001b[38;5;124m\"\u001b[39m\u001b[38;5;124mRecommended items for user \u001b[39m\u001b[38;5;132;01m{\u001b[39;00muidx\u001b[38;5;132;01m}\u001b[39;00m\u001b[38;5;124m: \u001b[39m\u001b[38;5;132;01m{\u001b[39;00mrecs\u001b[38;5;132;01m}\u001b[39;00m\u001b[38;5;124m\"\u001b[39m)\n\u001b[1;32m     18\u001b[0m \u001b[38;5;28;01mreturn\u001b[39;00m [item_ids[i] \u001b[38;5;28;01mfor\u001b[39;00m i \u001b[38;5;129;01min\u001b[39;00m recs[\u001b[38;5;241m0\u001b[39m]]\n",
      "File \u001b[0;32m~/Documents/s8/REMA1/FinalProject_2025_Leo_Lopes/.venv/lib/python3.10/site-packages/implicit/cpu/matrix_factorization_base.py:79\u001b[0m, in \u001b[0;36mMatrixFactorizationBase.recommend\u001b[0;34m(self, userid, user_items, N, filter_already_liked_items, filter_items, recalculate_user, items)\u001b[0m\n\u001b[1;32m     76\u001b[0m     \u001b[38;5;28;01mif\u001b[39;00m items \u001b[38;5;129;01mis\u001b[39;00m \u001b[38;5;129;01mnot\u001b[39;00m \u001b[38;5;28;01mNone\u001b[39;00m:\n\u001b[1;32m     77\u001b[0m         filter_query_items \u001b[38;5;241m=\u001b[39m _filter_items_from_sparse_matrix(items, filter_query_items)\n\u001b[0;32m---> 79\u001b[0m ids, scores \u001b[38;5;241m=\u001b[39m \u001b[43mtopk\u001b[49m\u001b[43m(\u001b[49m\n\u001b[1;32m     80\u001b[0m \u001b[43m    \u001b[49m\u001b[43mitem_factors\u001b[49m\u001b[43m,\u001b[49m\n\u001b[1;32m     81\u001b[0m \u001b[43m    \u001b[49m\u001b[43muser\u001b[49m\u001b[43m,\u001b[49m\n\u001b[1;32m     82\u001b[0m \u001b[43m    \u001b[49m\u001b[43mN\u001b[49m\u001b[43m,\u001b[49m\n\u001b[1;32m     83\u001b[0m \u001b[43m    \u001b[49m\u001b[43mfilter_query_items\u001b[49m\u001b[38;5;241;43m=\u001b[39;49m\u001b[43mfilter_query_items\u001b[49m\u001b[43m,\u001b[49m\n\u001b[1;32m     84\u001b[0m \u001b[43m    \u001b[49m\u001b[43mfilter_items\u001b[49m\u001b[38;5;241;43m=\u001b[39;49m\u001b[43mfilter_items\u001b[49m\u001b[43m,\u001b[49m\n\u001b[1;32m     85\u001b[0m \u001b[43m    \u001b[49m\u001b[43mnum_threads\u001b[49m\u001b[38;5;241;43m=\u001b[39;49m\u001b[38;5;28;43mself\u001b[39;49m\u001b[38;5;241;43m.\u001b[39;49m\u001b[43mnum_threads\u001b[49m\u001b[43m,\u001b[49m\n\u001b[1;32m     86\u001b[0m \u001b[43m\u001b[49m\u001b[43m)\u001b[49m\n\u001b[1;32m     88\u001b[0m \u001b[38;5;28;01mif\u001b[39;00m np\u001b[38;5;241m.\u001b[39misscalar(userid):\n\u001b[1;32m     89\u001b[0m     ids, scores \u001b[38;5;241m=\u001b[39m ids[\u001b[38;5;241m0\u001b[39m], scores[\u001b[38;5;241m0\u001b[39m]\n",
      "File \u001b[0;32mtopk.pyx:32\u001b[0m, in \u001b[0;36mimplicit.cpu.topk.topk\u001b[0;34m()\u001b[0m\n",
      "File \u001b[0;32mtopk.pyx:54\u001b[0m, in \u001b[0;36mimplicit.cpu.topk._topk_batch\u001b[0;34m()\u001b[0m\n",
      "\u001b[0;31mIndexError\u001b[0m: index 7224 is out of bounds for axis 1 with size 7176"
     ]
    }
   ],
   "source": [
    "test_df = small_matrix.copy()\n",
    "test_df['interaction'] = (test_df['watch_ratio'] >= 2).astype(int)\n",
    "# keep only users/items seen in train\n",
    "test_df = test_df[test_df['user_id'].isin(user2idx) & test_df['video_id'].isin(item2idx)]\n",
    "test_df['u_idx'] = test_df['user_id'].map(user2idx)\n",
    "test_df['i_idx'] = test_df['video_id'].map(item2idx)\n",
    "\n",
    "# build ground truth\n",
    "gt = test_df[test_df['interaction']==1].groupby('u_idx')['i_idx'].apply(set).to_dict()\n",
    "\n",
    "# metrics definitions\n",
    "import math\n",
    "def precision_at_k(recs, actual, k):\n",
    "    return len(set(recs[:k]) & set(actual))/k\n",
    "def recall_at_k(recs, actual, k):\n",
    "    return len(set(recs[:k]) & set(actual))/len(actual) if actual else 0\n",
    "def dcg_at_k(recs, actual, k):\n",
    "    return sum((1 if r in actual else 0)/math.log2(i+2) for i,r in enumerate(recs[:k]))\n",
    "def ndcg_at_k(recs, actual, k):\n",
    "    idcg = sum(1/math.log2(i+2) for i in range(min(len(actual),k)))\n",
    "    return dcg_at_k(recs,actual,k)/idcg if idcg>0 else 0\n",
    "def map_at_k(recs, actual, k):\n",
    "    hits=0; sum_prec=0\n",
    "    for i,r in enumerate(recs[:k]):\n",
    "        if r in actual:\n",
    "            hits+=1\n",
    "            sum_prec+=hits/(i+1)\n",
    "    return sum_prec/min(len(actual),k) if actual else 0\n",
    "\n",
    "# evaluate\n",
    "K=10\n",
    "metrics = {'prec':[], 'rec':[], 'ndcg':[], 'map':[]}\n",
    "for uidx, actual in gt.items():\n",
    "    recs = [ item2idx.get(v,-1) for v in recommend_als(idx2user[uidx], K) ]\n",
    "    metrics['prec'].append( precision_at_k(recs,actual,K) )\n",
    "    metrics['rec' ].append( recall_at_k(recs,actual,K) )\n",
    "    metrics['ndcg'].append( ndcg_at_k(recs,actual,K) )\n",
    "    metrics['map' ].append( map_at_k(recs,actual,K) )\n",
    "\n",
    "print(\"ALS @K=10:\")\n",
    "print(f\"Precision@10: {np.mean(metrics['prec']):.4f}\")\n",
    "print(f\"Recall@10   : {np.mean(metrics['rec'] ):.4f}\")\n",
    "print(f\"NDCG@10     : {np.mean(metrics['ndcg']):.4f}\")\n",
    "print(f\"MAP@10      : {np.mean(metrics['map'] ):.4f}\")\n"
   ]
  }
 ],
 "metadata": {
  "kernelspec": {
   "display_name": ".venv",
   "language": "python",
   "name": "python3"
  },
  "language_info": {
   "codemirror_mode": {
    "name": "ipython",
    "version": 3
   },
   "file_extension": ".py",
   "mimetype": "text/x-python",
   "name": "python",
   "nbconvert_exporter": "python",
   "pygments_lexer": "ipython3",
   "version": "3.10.16"
  }
 },
 "nbformat": 4,
 "nbformat_minor": 5
}
